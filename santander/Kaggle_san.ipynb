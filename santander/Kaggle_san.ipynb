{
 "cells": [
  {
   "cell_type": "markdown",
   "metadata": {},
   "source": [
    "数据默认放在notebook的同目录的data文件下\n"
   ]
  },
  {
   "cell_type": "code",
   "execution_count": 62,
   "metadata": {},
   "outputs": [],
   "source": [
    "import pandas as pd, numpy as np, matplotlib.pylab as plt\n",
    "\n",
    "def plot_confusion_matrix(y_true, y_pred, classes,\n",
    "                          normalize=False,\n",
    "                          title=None,\n",
    "                          cmap=plt.cm.Blues):\n",
    "    \"\"\"\n",
    "    This function prints and plots the confusion matrix.\n",
    "    Normalization can be applied by setting `normalize=True`.\n",
    "    \"\"\"\n",
    "    if not title:\n",
    "        if normalize:\n",
    "            title = 'Normalized confusion matrix'\n",
    "        else:\n",
    "            title = 'Confusion matrix, without normalization'\n",
    "\n",
    "    # Compute confusion matrix\n",
    "    cm = confusion_matrix(y_true, y_pred)\n",
    "    # Only use the labels that appear in the data\n",
    "    if normalize:\n",
    "        cm = cm.astype('float') / cm.sum(axis=1)[:, np.newaxis]\n",
    "        print(\"Normalized confusion matrix\")\n",
    "    else:\n",
    "        print('Confusion matrix, without normalization')\n",
    "\n",
    "    print(cm)\n",
    "\n",
    "    fig, ax = plt.subplots()\n",
    "    fig.set_size_inches(10,10)\n",
    "    im = ax.imshow(cm, interpolation='nearest', cmap=cmap)\n",
    "    ax.figure.colorbar(im, ax=ax)\n",
    "    # We want to show all ticks...\n",
    "    ax.set(xticks=np.arange(cm.shape[1]),\n",
    "           yticks=np.arange(cm.shape[0]),\n",
    "           title=title,\n",
    "           ylabel='True label',\n",
    "           xlabel='Predicted label')\n",
    "    ax.set_xticklabels(classes[0],fontsize=20)\n",
    "    ax.set_yticklabels(classes[1],fontsize=20)\n",
    "    # Rotate the tick labels and set their alignment.\n",
    "    plt.setp(ax.get_xticklabels(), rotation=45, ha=\"right\",\n",
    "             rotation_mode=\"anchor\")\n",
    "\n",
    "    # Loop over data dimensions and create text annotations.\n",
    "    fmt = '.2f' if normalize else 'd'\n",
    "    thresh = cm.max() / 2.\n",
    "    for i in range(cm.shape[0]):\n",
    "        for j in range(cm.shape[1]):\n",
    "            ax.text(j, i, format(cm[i, j], fmt), fontsize =30,\n",
    "                    ha=\"center\", va=\"center\",\n",
    "                    color=\"white\" if cm[i, j] > thresh else \"black\")\n",
    "    fig.tight_layout()\n",
    "    return ax\n"
   ]
  },
  {
   "cell_type": "code",
   "execution_count": 63,
   "metadata": {},
   "outputs": [],
   "source": [
    "#读取数据\n",
    "df = pd.read_csv('data/train.csv')\n",
    "\n"
   ]
  },
  {
   "cell_type": "code",
   "execution_count": 64,
   "metadata": {},
   "outputs": [],
   "source": [
    "df.head(5)\n",
    "\n",
    "#不需要id code\n",
    "df = df.drop('ID_code',axis = 1)"
   ]
  },
  {
   "cell_type": "code",
   "execution_count": 71,
   "metadata": {},
   "outputs": [],
   "source": [
    "#分测试训练集\n",
    "\n",
    "#如需更改训练测试比例，请在此处更改\n",
    "\n",
    "fraction = 0.7\n",
    "\n",
    "df_train = df.sample(frac=fraction)\n",
    "df_test = df.drop(df_train.index,axis=0)"
   ]
  },
  {
   "cell_type": "code",
   "execution_count": 72,
   "metadata": {},
   "outputs": [],
   "source": [
    "#采样处理函数区\n",
    "\n",
    "\n",
    "#为方便之后测试，请务必使用函数形式\n",
    "\n",
    "def under_sample(df_train):\n",
    "    '''\n",
    "    input: training dateframe including target\n",
    "    output: under sampled dataframe\n",
    "    '''\n",
    "    t0 = df_train[df_train['target']==0]\n",
    "    t1 = df_train[df_train['target']==1]\n",
    "\n",
    "\n",
    "    df = t0.sample(frac=len(t1)/len(t0)).append(t1)\n",
    "    \n",
    "    return df\n",
    "\n",
    "def over_sample(df_train):\n",
    "    '''\n",
    "    input: training dateframe including target\n",
    "    output: under sampled dataframe\n",
    "    '''\n",
    "    t0 = df_train[df_train['target']==0]\n",
    "    t1 = df_train[df_train['target']==1]\n",
    "\n",
    "\n",
    "    df = t1.sample(frac=len(t0)/len(t1),replace=True).append(t0)\n",
    "    \n",
    "    return df\n",
    "    "
   ]
  },
  {
   "cell_type": "code",
   "execution_count": 76,
   "metadata": {},
   "outputs": [
    {
     "name": "stdout",
     "output_type": "stream",
     "text": [
      "数据总共有252122个， 其中0标签126061个， 1标签126061个\n"
     ]
    }
   ],
   "source": [
    "#（一般情况下不需要更改）\n",
    "\n",
    "df_train_sampled = over_sample(df_train)\n",
    "\n",
    "\n",
    "\n",
    "print ('数据总共有%s个， 其中0标签%s个， 1标签%s个'%( len(df_train_sampled),sum(df_train_sampled['target']==0),sum(df_train_sampled['target']==1)))"
   ]
  },
  {
   "cell_type": "code",
   "execution_count": 77,
   "metadata": {},
   "outputs": [],
   "source": [
    "#分开标签 (一般情况下不需要更改)\n",
    "t_train = df_train_sampled['target']\n",
    "x_train = df_train_sampled.drop('target',axis=1)\n",
    "\n",
    "t_test = df_test['target']\n",
    "x_test = df_test.drop('target',axis=1)"
   ]
  },
  {
   "cell_type": "code",
   "execution_count": 75,
   "metadata": {},
   "outputs": [],
   "source": [
    "#变量处理\n",
    "\n"
   ]
  },
  {
   "cell_type": "code",
   "execution_count": 36,
   "metadata": {},
   "outputs": [
    {
     "data": {
      "text/plain": [
       "12683"
      ]
     },
     "execution_count": 36,
     "metadata": {},
     "output_type": "execute_result"
    }
   ],
   "source": [
    "#变量晒选\n",
    "\n"
   ]
  },
  {
   "cell_type": "code",
   "execution_count": null,
   "metadata": {},
   "outputs": [],
   "source": [
    "#初步建模\n",
    "%timeit\n",
    "#xgb\n",
    "from xgboost import XGBClassifier\n",
    "model = XGBClassifier(\n",
    " learning_rate =0.1,\n",
    " n_estimators=1000,\n",
    " max_depth=9,\n",
    " min_child_weight=5,\n",
    " gamma=0,\n",
    " subsample=0.8,\n",
    " colsample_bytree=0.8,\n",
    " objective= 'binary:logistic',\n",
    " scale_pos_weight=1,\n",
    " seed=27)\n",
    "\n",
    "model.fit(x_train,t_train)\n",
    "\n"
   ]
  },
  {
   "cell_type": "code",
   "execution_count": null,
   "metadata": {},
   "outputs": [],
   "source": [
    "#模型检验\n",
    "t_pred = model.predict(x_test)\n",
    "\n",
    "# Plot normalized confusion matrix\n",
    "plot_confusion_matrix(t_test, t_pred, classes=[u'TF',u'TF'], normalize=True, title='Normalized XGboost confusion matrix')\n",
    "plt.show()\n",
    "\n",
    "#因子重要性\n",
    "from xgboost import plot_importance\n",
    "fig,ax = plt.subplots(figsize=(10,15))\n",
    "ax.set_yticklabels(x_train.columns,fontsize= 15)\n",
    "plot_importance(model,height=0.5,max_num_features=20,ax=ax)\n",
    "plt.show()\n",
    "\n",
    "#ROCAUC\n",
    "t_score = roc_auc_score(t_test,model.predict_proba(x_test)[:,1])\n",
    "print('AUC score: %s'%(t_score))\n",
    "\n",
    "fpr, tpr, thresholds= roc_curve(t_test,model.predict_proba(X_test)[:,1],pos_label=None,sample_weight=None,drop_intermediate=True)\n",
    "plt.plot(fpr,tpr,marker = 'o')\n",
    "plt.title('ROC')\n",
    "plt.show()\n",
    "\n"
   ]
  }
 ],
 "metadata": {
  "kernelspec": {
   "display_name": "Python 3",
   "language": "python",
   "name": "python3"
  },
  "language_info": {
   "codemirror_mode": {
    "name": "ipython",
    "version": 3
   },
   "file_extension": ".py",
   "mimetype": "text/x-python",
   "name": "python",
   "nbconvert_exporter": "python",
   "pygments_lexer": "ipython3",
   "version": "3.7.1"
  }
 },
 "nbformat": 4,
 "nbformat_minor": 2
}
